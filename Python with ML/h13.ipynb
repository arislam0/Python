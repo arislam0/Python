{
 "cells": [
  {
   "cell_type": "code",
   "execution_count": 1,
   "metadata": {},
   "outputs": [
    {
     "name": "stdout",
     "output_type": "stream",
     "text": [
      "Vlaue of var1 is  0\n",
      "Vlaue of var1 is  1\n",
      "Vlaue of var1 is  2\n",
      "Vlaue of var1 is  3\n",
      "Vlaue of var1 is  4\n",
      "Vlaue of var1 is  5\n",
      "Vlaue of var1 is  6\n",
      "Vlaue of var1 is  7\n",
      "Vlaue of var1 is  8\n",
      "Vlaue of var1 is  9\n"
     ]
    }
   ],
   "source": [
    "var1 = 0\n",
    "while var1<10:\n",
    "    print(\"Vlaue of var1 is \",var1)\n",
    "    var1+=1"
   ]
  },
  {
   "cell_type": "code",
   "execution_count": null,
   "metadata": {
    "scrolled": true
   },
   "outputs": [],
   "source": [
    "avaiable_exits = [\"east\",\"north east\",\"south\"]\n",
    "choosen_exit = \"\"\n",
    "flag=0\n",
    "\n",
    "while choosen_exit not in avaiable_exits:\n",
    "    choosen_exit = input(\"Please enter the direction: \")\n",
    "    if choosen_exit == \"quit\":\n",
    "        print(\"Your game over\")\n",
    "        flag=1\n",
    "        break\n",
    "\n",
    "else:\n",
    "        print(\"Are you not glad that you are out of this loop\")\n",
    "\n",
    "    "
   ]
  }
 ],
 "metadata": {
  "kernelspec": {
   "display_name": "Python 3",
   "language": "python",
   "name": "python3"
  }
 },
 "nbformat": 4,
 "nbformat_minor": 4
}
