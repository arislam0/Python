{
 "cells": [
  {
   "cell_type": "code",
   "execution_count": 3,
   "metadata": {},
   "outputs": [
    {
     "data": {
      "text/plain": [
       "int"
      ]
     },
     "execution_count": 3,
     "metadata": {},
     "output_type": "execute_result"
    }
   ],
   "source": [
    "var1 = 13\n",
    "type(var1)"
   ]
  },
  {
   "cell_type": "code",
   "execution_count": 7,
   "metadata": {},
   "outputs": [
    {
     "name": "stdout",
     "output_type": "stream",
     "text": [
      "20\n",
      "arislam20\n"
     ]
    }
   ],
   "source": [
    "_var1 = 20\n",
    "name_var1 = 'arislam'\n",
    "print(_var1)\n",
    "print(name_var1 + str(_var1))"
   ]
  },
  {
   "cell_type": "code",
   "execution_count": 12,
   "metadata": {},
   "outputs": [
    {
     "name": "stdout",
     "output_type": "stream",
     "text": [
      "Enter the value of var2:  22\n",
      "Enter the value of var3:  7\n",
      "29\n",
      "15\n",
      "154\n",
      "3.142857142857143\n",
      "2494357888\n",
      "3\n",
      "1\n"
     ]
    }
   ],
   "source": [
    "var2 = int(input('Enter the value of var2:  '))\n",
    "var3 = int(input('Enter the value of var3:  '))\n",
    "print(var2+var3)\n",
    "print(var2-var3)\n",
    "print(var2*var3)\n",
    "print(var2/var3)\n",
    "print(var2**var3)\n",
    "\n",
    "print(var2//var3)\n",
    "print(var2%var3)"
   ]
  }
 ],
 "metadata": {
  "kernelspec": {
   "display_name": "Python 3",
   "language": "python",
   "name": "python3"
  },
  "language_info": {
   "codemirror_mode": {
    "name": "ipython",
    "version": 3
   },
   "file_extension": ".py",
   "mimetype": "text/x-python",
   "name": "python",
   "nbconvert_exporter": "python",
   "pygments_lexer": "ipython3",
   "version": "3.7.1"
  }
 },
 "nbformat": 4,
 "nbformat_minor": 4
}
