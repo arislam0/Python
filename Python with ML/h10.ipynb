{
 "cells": [
  {
   "cell_type": "code",
   "execution_count": 10,
   "metadata": {},
   "outputs": [
    {
     "name": "stdout",
     "output_type": "stream",
     "text": [
      "Please enter your name: ar\n",
      "How old are you, ar? 15\n",
      "15\n",
      "<class 'int'>\n",
      "\n",
      "Not voter 3 years after\n"
     ]
    }
   ],
   "source": [
    "name = input(\"Please enter your name: \")\n",
    "age  = int(input(\"How old are you, {0}? \".format(name)))\n",
    "print(age)\n",
    "print(type(age))\n",
    "print()\n",
    "\n",
    "if age>=18:\n",
    "    print(\"voter\")\n",
    "else:\n",
    "    print(\"Not voter {0} years after\".format(18-age))"
   ]
  },
  {
   "cell_type": "code",
   "execution_count": 17,
   "metadata": {},
   "outputs": [
    {
     "name": "stdout",
     "output_type": "stream",
     "text": [
      "Please guess a number b/w 1 to 10\n",
      "10\n",
      "Please guess lower\n",
      "5\n",
      "Well done, your guess is correct!!\n"
     ]
    }
   ],
   "source": [
    "print(\"Please guess a number b/w 1 to 10\")\n",
    "guess = int(input())\n",
    "\n",
    "if (guess < 5):\n",
    "    print(\"Please guess higher\")\n",
    "    guess = int(input())\n",
    "    if(guess == 5):\n",
    "        print(\"Well done, your guess is correct!!\")\n",
    "    else:\n",
    "        print(\"Sorry, you have not guessed the correct number\")\n",
    "elif (guess>5):\n",
    "    print(\"Please guess lower\")\n",
    "    guess = int(input())\n",
    "    if(guess == 5):\n",
    "        print(\"Well done, your guess is correct!!\")\n",
    "    else:\n",
    "        print(\"Sorry, you have not guessed the correct number\")\n",
    "    \n",
    "else:\n",
    "    print(\"You got it first time\")\n"
   ]
  },
  {
   "cell_type": "code",
   "execution_count": 2,
   "metadata": {},
   "outputs": [],
   "source": [
    "import sklearn"
   ]
  }
 ],
 "metadata": {
  "kernelspec": {
   "display_name": "Python 3",
   "language": "python",
   "name": "python3"
  },
  "language_info": {
   "codemirror_mode": {
    "name": "ipython",
    "version": 3
   },
   "file_extension": ".py",
   "mimetype": "text/x-python",
   "name": "python",
   "nbconvert_exporter": "python",
   "pygments_lexer": "ipython3",
   "version": "3.7.1"
  }
 },
 "nbformat": 4,
 "nbformat_minor": 4
}
