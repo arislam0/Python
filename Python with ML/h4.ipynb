{
 "cells": [
  {
   "cell_type": "code",
   "execution_count": 2,
   "metadata": {
    "scrolled": true
   },
   "outputs": [
    {
     "name": "stdout",
     "output_type": "stream",
     "text": [
      "Enter the name: gg\n",
      "Hello gg\n"
     ]
    }
   ],
   "source": [
    "greeting = 'Hello'\n",
    "name = input(\"Enter the name: \")\n",
    "print(greeting+' '+name)"
   ]
  },
  {
   "cell_type": "code",
   "execution_count": 6,
   "metadata": {
    "scrolled": true
   },
   "outputs": [
    {
     "name": "stdout",
     "output_type": "stream",
     "text": [
      "Enter the value: 1123\n"
     ]
    },
    {
     "data": {
      "text/plain": [
       "int"
      ]
     },
     "execution_count": 6,
     "metadata": {},
     "output_type": "execute_result"
    }
   ],
   "source": [
    "var1 = int(input(\"Enter the value: \"))\n",
    "var1\n",
    "type(var1)"
   ]
  },
  {
   "cell_type": "code",
   "execution_count": 9,
   "metadata": {},
   "outputs": [
    {
     "name": "stdout",
     "output_type": "stream",
     "text": [
      "Enter the value: ar\n",
      "arar\n"
     ]
    }
   ],
   "source": [
    "var1 = input(\"Enter the value: \")\n",
    "var1 = var1*2\n",
    "print(var1)"
   ]
  },
  {
   "cell_type": "code",
   "execution_count": 15,
   "metadata": {},
   "outputs": [
    {
     "name": "stdout",
     "output_type": "stream",
     "text": [
      "mera name ar islam hai,\n",
      "or mai youtube vides\n",
      "banata hu.\n"
     ]
    }
   ],
   "source": [
    "splitstring = \"mera name ar islam hai,\\nor mai youtube vides\\nbanata hu.\"\n",
    "print(splitstring)"
   ]
  },
  {
   "cell_type": "code",
   "execution_count": 20,
   "metadata": {},
   "outputs": [
    {
     "name": "stdout",
     "output_type": "stream",
     "text": [
      "1\t2\t3\t4\t5\t\n",
      "1 2 3 4 5\n"
     ]
    }
   ],
   "source": [
    "tabstring = \"1\\t2\\t3\\t4\\t5\\t\"\n",
    "tabstring1 = \"1 2 3 4 5\"\n",
    "print(tabstring)\n",
    "print(tabstring1)"
   ]
  },
  {
   "cell_type": "code",
   "execution_count": 29,
   "metadata": {},
   "outputs": [
    {
     "name": "stdout",
     "output_type": "stream",
     "text": [
      "what's your name?\n",
      "My name is \"arislam\" all\n"
     ]
    }
   ],
   "source": [
    "print('what\\'s your name?')\n",
    "print(\"My name is \\\"arislam\\\" all\")"
   ]
  },
  {
   "cell_type": "code",
   "execution_count": 36,
   "metadata": {},
   "outputs": [
    {
     "name": "stdout",
     "output_type": "stream",
     "text": [
      "mera name ar islam hai,or mai youtube vi\n",
      "mera name ar islam hai,or mai youtube vi\n",
      "what's your name\n",
      "\n",
      "mera name ar islam hai,\n",
      "or mai youtube vi\n"
     ]
    }
   ],
   "source": [
    "#pppp\n",
    "print('mera name ar islam hai,or mai youtube vi')\n",
    "print(\"mera name ar islam hai,or mai youtube vi\")\n",
    "print(\"what's your name\")\n",
    "print()\n",
    "print('''mera name ar islam hai,\n",
    "or mai youtube vi''')"
   ]
  }
 ],
 "metadata": {
  "kernelspec": {
   "display_name": "Python 3",
   "language": "python",
   "name": "python3"
  },
  "language_info": {
   "codemirror_mode": {
    "name": "ipython",
    "version": 3
   },
   "file_extension": ".py",
   "mimetype": "text/x-python",
   "name": "python",
   "nbconvert_exporter": "python",
   "pygments_lexer": "ipython3",
   "version": "3.7.1"
  }
 },
 "nbformat": 4,
 "nbformat_minor": 4
}
