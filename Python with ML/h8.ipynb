{
 "cells": [
  {
   "cell_type": "code",
   "execution_count": 2,
   "metadata": {},
   "outputs": [
    {
     "name": "stdout",
     "output_type": "stream",
     "text": [
      "Hello, Knowlege shelf\n"
     ]
    }
   ],
   "source": [
    "#Functions \n",
    "\n",
    "def funtion1():\n",
    "    print(\"Hello, Knowlege shelf\")\n",
    "    \n"
   ]
  },
  {
   "cell_type": "code",
   "execution_count": 4,
   "metadata": {},
   "outputs": [
    {
     "name": "stdout",
     "output_type": "stream",
     "text": [
      "Enter the value of num1: 12\n",
      "Enter the value of num2: 24\n",
      "sum =  36\n"
     ]
    }
   ],
   "source": [
    "'''\n",
    "1. No argu no return type.\n",
    "'''\n",
    "def add():\n",
    "    var1 = int(input(\"Enter the value of num1: \"))\n",
    "    var2 = int(input(\"Enter the value of num2: \"))\n",
    "    var3 = var1 + var2\n",
    "    print(\"sum = \",var3)\n",
    "    "
   ]
  },
  {
   "cell_type": "code",
   "execution_count": 6,
   "metadata": {},
   "outputs": [
    {
     "name": "stdout",
     "output_type": "stream",
     "text": [
      "Enter the value of num1: 12\n",
      "Enter the value of num2: 6\n",
      "sub =  6\n"
     ]
    }
   ],
   "source": [
    "'''\n",
    "2. With argument and no return type\n",
    "'''\n",
    "def sub(var1,var2):\n",
    "    var3 = var1 - var2\n",
    "    print(\"sub = \",var3)\n"
   ]
  },
  {
   "cell_type": "code",
   "execution_count": 1,
   "metadata": {},
   "outputs": [],
   "source": [
    "'''\n",
    "3. No argument and with return type\n",
    "'''\n",
    "def multiply():\n",
    "    var1 = int(input(\"Enter the value of num1: \"))\n",
    "    var2 = int(input(\"Enter the value of num2: \"))  \n",
    "    var3 = var1 * var2\n",
    "    return var3\n",
    "    "
   ]
  },
  {
   "cell_type": "code",
   "execution_count": 2,
   "metadata": {},
   "outputs": [],
   "source": [
    "'''\n",
    "3. With argument and with return type\n",
    "'''\n",
    "def div(var1,var2):  \n",
    "    var3 = var1 / var2\n",
    "    return var3"
   ]
  }
 ],
 "metadata": {
  "kernelspec": {
   "display_name": "Python 3",
   "language": "python",
   "name": "python3"
  },
  "language_info": {
   "codemirror_mode": {
    "name": "ipython",
    "version": 3
   },
   "file_extension": ".py",
   "mimetype": "text/x-python",
   "name": "python",
   "nbconvert_exporter": "python",
   "pygments_lexer": "ipython3",
   "version": "3.7.1"
  }
 },
 "nbformat": 4,
 "nbformat_minor": 4
}
