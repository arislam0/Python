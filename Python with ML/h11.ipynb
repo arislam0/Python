{
 "cells": [
  {
   "cell_type": "code",
   "execution_count": 1,
   "metadata": {},
   "outputs": [
    {
     "name": "stdout",
     "output_type": "stream",
     "text": [
      "Please enter your name: \n",
      "mike\n",
      "Please enter your name: \n",
      "vinod\n",
      "Please enter your name: \n",
      "vicky\n",
      "Please enter your name: \n",
      "vishawjeet\n",
      "Please enter your name: \n",
      "vishwajeet\n",
      "Thank you  vishwajeet\n"
     ]
    }
   ],
   "source": [
    "name = 'vishwajeet'\n",
    "while True:\n",
    "    print(\"Please enter your name: \")\n",
    "    name1 = input()\n",
    "    if(name1 == name):\n",
    "        break\n",
    "print('Thank you ',name)"
   ]
  },
  {
   "cell_type": "code",
   "execution_count": 2,
   "metadata": {},
   "outputs": [
    {
     "name": "stdout",
     "output_type": "stream",
     "text": [
      "who are you?\n",
      "jhon\n",
      "who are you?\n",
      "ramesh\n",
      "who are you?\n",
      "vishwajeet\n",
      "Hello, vishwajeet. what is your password('it is a fish')\n",
      "tuna\n",
      "who are you?\n",
      "vishwajeet\n",
      "Hello, vishwajeet. what is your password('it is a fish')\n",
      "swordfish\n",
      "congrats!!!, Access Granted\n"
     ]
    }
   ],
   "source": [
    "while True:\n",
    "    print('who are you?')\n",
    "    name = input()\n",
    "    if(name != 'vishwajeet'):\n",
    "        continue\n",
    "    print(\"Hello, vishwajeet. what is your password('it is a fish')\")\n",
    "    password = input()\n",
    "    if(password=='swordfish'):\n",
    "        break\n",
    "print(\"congrats!!!, Access Granted\")"
   ]
  }
 ],
 "metadata": {
  "kernelspec": {
   "display_name": "Python 3",
   "language": "python",
   "name": "python3"
  },
  "language_info": {
   "codemirror_mode": {
    "name": "ipython",
    "version": 3
   },
   "file_extension": ".py",
   "mimetype": "text/x-python",
   "name": "python",
   "nbconvert_exporter": "python",
   "pygments_lexer": "ipython3",
   "version": "3.7.1"
  }
 },
 "nbformat": 4,
 "nbformat_minor": 4
}
