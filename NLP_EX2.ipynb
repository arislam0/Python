{
  "nbformat": 4,
  "nbformat_minor": 0,
  "metadata": {
    "colab": {
      "name": "NLP_EX2.ipynb",
      "provenance": [],
      "authorship_tag": "ABX9TyOzr+PABIMxZ2+ZxEQjgmcO",
      "include_colab_link": true
    },
    "kernelspec": {
      "name": "python3",
      "display_name": "Python 3"
    }
  },
  "cells": [
    {
      "cell_type": "markdown",
      "metadata": {
        "id": "view-in-github",
        "colab_type": "text"
      },
      "source": [
        "<a href=\"https://colab.research.google.com/github/arislam0/Python/blob/master/NLP_EX2.ipynb\" target=\"_parent\"><img src=\"https://colab.research.google.com/assets/colab-badge.svg\" alt=\"Open In Colab\"/></a>"
      ]
    },
    {
      "cell_type": "code",
      "metadata": {
        "id": "PRMweA_nKhMt",
        "colab_type": "code",
        "colab": {
          "base_uri": "https://localhost:8080/",
          "height": 34
        },
        "outputId": "036789f6-d74e-456d-9bda-73bb5a416d83"
      },
      "source": [
        "print(\"Knowledge Shelf\")"
      ],
      "execution_count": 1,
      "outputs": [
        {
          "output_type": "stream",
          "text": [
            "Knowledge Shelf\n"
          ],
          "name": "stdout"
        }
      ]
    },
    {
      "cell_type": "code",
      "metadata": {
        "id": "R9dTZpmVKw7-",
        "colab_type": "code",
        "colab": {
          "base_uri": "https://localhost:8080/",
          "height": 50
        },
        "outputId": "b9a8b402-8eb1-458a-b0e8-34a1e9e6b1f3"
      },
      "source": [
        "name = \"Knowledge Shelf\"\n",
        "print(\"My Youtube Channel name is \",name)\n",
        "print(\"My Youtube Channel name is {}\".format(name))"
      ],
      "execution_count": 3,
      "outputs": [
        {
          "output_type": "stream",
          "text": [
            "My Youtube Channel name is  Knowledge Shelf\n",
            "My Youtube Channel name is Knowledge Shelf\n"
          ],
          "name": "stdout"
        }
      ]
    },
    {
      "cell_type": "code",
      "metadata": {
        "id": "TH9Syz4lLR1I",
        "colab_type": "code",
        "colab": {
          "base_uri": "https://localhost:8080/",
          "height": 34
        },
        "outputId": "04f9531c-fc42-477f-e860-4bcb601dfcc2"
      },
      "source": [
        "print(f\"My Youtube Channel name is {name}\")"
      ],
      "execution_count": 4,
      "outputs": [
        {
          "output_type": "stream",
          "text": [
            "My Youtube Channel name is Knowledge Shelf\n"
          ],
          "name": "stdout"
        }
      ]
    },
    {
      "cell_type": "code",
      "metadata": {
        "id": "7nrFwzZ1LzDY",
        "colab_type": "code",
        "colab": {}
      },
      "source": [
        "spam = ['a','b','c','d']"
      ],
      "execution_count": 5,
      "outputs": []
    },
    {
      "cell_type": "code",
      "metadata": {
        "id": "gYNwznVyMCNA",
        "colab_type": "code",
        "colab": {
          "base_uri": "https://localhost:8080/",
          "height": 34
        },
        "outputId": "5545792f-76b1-499e-e090-472121c61a40"
      },
      "source": [
        "print(f\"Vlaue of spam {spam[2]}\")"
      ],
      "execution_count": 7,
      "outputs": [
        {
          "output_type": "stream",
          "text": [
            "Vlaue of spam c\n"
          ],
          "name": "stdout"
        }
      ]
    },
    {
      "cell_type": "code",
      "metadata": {
        "id": "Ed8Ag3HTMObR",
        "colab_type": "code",
        "colab": {}
      },
      "source": [
        "dict = {'var1':20,'var2':45}"
      ],
      "execution_count": 8,
      "outputs": []
    },
    {
      "cell_type": "code",
      "metadata": {
        "id": "_cA28EU5MeUX",
        "colab_type": "code",
        "colab": {
          "base_uri": "https://localhost:8080/",
          "height": 34
        },
        "outputId": "8e9f04eb-7cbf-4b96-c0f8-4e6b5457cc52"
      },
      "source": [
        "print(f\"Value of dict {dict['var2']}\")"
      ],
      "execution_count": 10,
      "outputs": [
        {
          "output_type": "stream",
          "text": [
            "Value of dict 45\n"
          ],
          "name": "stdout"
        }
      ]
    },
    {
      "cell_type": "code",
      "metadata": {
        "id": "DsGBHsjDMrWo",
        "colab_type": "code",
        "colab": {}
      },
      "source": [
        "college = [('Name','Branch','Year'),\n",
        "        ('Ankit','ECE','2'),\n",
        "        ('Mayeank','cse','3'),\n",
        "        ('raj','cse','1')]"
      ],
      "execution_count": 17,
      "outputs": []
    },
    {
      "cell_type": "code",
      "metadata": {
        "id": "Z6TSoYwgNTqo",
        "colab_type": "code",
        "colab": {
          "base_uri": "https://localhost:8080/",
          "height": 84
        },
        "outputId": "e4d91e67-83f9-4bda-d033-f9f729da735a"
      },
      "source": [
        "for data in college:\n",
        "  print(f\"Student name is:{data[0]}\")"
      ],
      "execution_count": 18,
      "outputs": [
        {
          "output_type": "stream",
          "text": [
            "Student name is:Name\n",
            "Student name is:Ankit\n",
            "Student name is:Mayeank\n",
            "Student name is:raj\n"
          ],
          "name": "stdout"
        }
      ]
    },
    {
      "cell_type": "code",
      "metadata": {
        "id": "DxoqTOmFNZh4",
        "colab_type": "code",
        "colab": {
          "base_uri": "https://localhost:8080/",
          "height": 84
        },
        "outputId": "9ff4c006-e1f4-4555-bdec-6671f6e30d2c"
      },
      "source": [
        "for name, branch, year in college:\n",
        "  print(f\"{name:{10}}  {branch:{40}}  {year:{10}}\")"
      ],
      "execution_count": 24,
      "outputs": [
        {
          "output_type": "stream",
          "text": [
            "Name        Branch                                    Year      \n",
            "Ankit       ECE                                       2         \n",
            "Mayeank     cse                                       3         \n",
            "raj         cse                                       1         \n"
          ],
          "name": "stdout"
        }
      ]
    },
    {
      "cell_type": "code",
      "metadata": {
        "id": "_QjyIxLsN3nB",
        "colab_type": "code",
        "colab": {}
      },
      "source": [
        "from datetime import datetime"
      ],
      "execution_count": 25,
      "outputs": []
    },
    {
      "cell_type": "code",
      "metadata": {
        "id": "-Woc4jZPO9-B",
        "colab_type": "code",
        "colab": {}
      },
      "source": [
        "present = datetime(year=2020,month=8,day=31)"
      ],
      "execution_count": 28,
      "outputs": []
    },
    {
      "cell_type": "code",
      "metadata": {
        "id": "R42kxJCVPK1x",
        "colab_type": "code",
        "colab": {
          "base_uri": "https://localhost:8080/",
          "height": 34
        },
        "outputId": "bb2386da-bd8e-4726-e872-5af98ca4aa44"
      },
      "source": [
        "print(f\"{present}\")"
      ],
      "execution_count": 29,
      "outputs": [
        {
          "output_type": "stream",
          "text": [
            "2020-08-31 00:00:00\n"
          ],
          "name": "stdout"
        }
      ]
    },
    {
      "cell_type": "code",
      "metadata": {
        "id": "teQC6p6bPZDh",
        "colab_type": "code",
        "colab": {
          "base_uri": "https://localhost:8080/",
          "height": 34
        },
        "outputId": "dc36ee87-5ca4-4063-9a54-bb6fede2633c"
      },
      "source": [
        "present"
      ],
      "execution_count": 30,
      "outputs": [
        {
          "output_type": "execute_result",
          "data": {
            "text/plain": [
              "datetime.datetime(2020, 8, 31, 0, 0)"
            ]
          },
          "metadata": {
            "tags": []
          },
          "execution_count": 30
        }
      ]
    },
    {
      "cell_type": "code",
      "metadata": {
        "id": "D6RXPGuEPcRi",
        "colab_type": "code",
        "colab": {
          "base_uri": "https://localhost:8080/",
          "height": 84
        },
        "outputId": "003ca5ef-1ad2-49b7-c91f-15a920e56195"
      },
      "source": [
        "print(f\"{present:%B %d. %y}\")\n",
        "print(f\"{present:%x}\")\n",
        "print(f\"{present:%X}\")\n",
        "print(f\"{present:%c}\")"
      ],
      "execution_count": 39,
      "outputs": [
        {
          "output_type": "stream",
          "text": [
            "August 31. 20\n",
            "08/31/20\n",
            "00:00:00\n",
            "Mon Aug 31 00:00:00 2020\n"
          ],
          "name": "stdout"
        }
      ]
    },
    {
      "cell_type": "code",
      "metadata": {
        "id": "p05SKfijPnxx",
        "colab_type": "code",
        "colab": {}
      },
      "source": [
        ""
      ],
      "execution_count": null,
      "outputs": []
    }
  ]
}